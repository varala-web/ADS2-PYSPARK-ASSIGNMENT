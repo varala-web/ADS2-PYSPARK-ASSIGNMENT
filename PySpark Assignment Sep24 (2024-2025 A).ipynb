{
  "cells": [
    {
      "cell_type": "markdown",
      "metadata": {
        "id": "04k66G6XOD3o"
      },
      "source": [
        "# CW1 - Metacritic Analysis with PySpark\n",
        "\n",
        "In this assignment you will be tasked with exploring a dataset containing Metacritic entries up to year 2020. You should complete the exercises presented in the Google Colab Notebook below. This assignment will be graded using CodeGrade.\n",
        "\n",
        "In the text below you will be asked to perform queries with pyspark. In the code boxes you will find the variable name has been set up for you with a comment that says ```#Complete here``` - please remove the comment and insert your code.\n",
        "\n",
        "* **Exercise 1 (6 Marks)**:  \n",
        "\n",
        "  a)  Filter and show all the titles with a score higher or equal to 95 released from 2017\n",
        "\n",
        "  b)  Create a dataframe that contains, for each developer, the number of distinct titles, the average score, the average user score, the total number of critics and the total number of users.\n",
        "\n",
        "  Sort by the number of titles in descending order.\n",
        "\n",
        "* **Exercise 2 (6 Marks)**:\n",
        "\n",
        "  a) Print the total number of multi-platform titles in the data, i.e. the distinct titles which appear for at least two different platforms.\n",
        "\n",
        "  b) Print the name of the developer which has developed titles for the highest number of distinct platforms.\n",
        "\n",
        "* **Exercise 3 (6 Marks)**:\n",
        "\n",
        "  Group the data by platform. Show, for each platform, its highest rated title, the total number of titles and the total number of critics.\n",
        "\n",
        "  Sort by the Number of Titles in descending order.\n",
        "\n",
        "* **Exercise 4 (6 Marks)**:\n",
        "\n",
        "  Print the name of the Platform with the highest percentage of titles of \"Open-World\" genre.\n",
        "\n",
        "* **Exercise 5 (6 Marks)**:\n",
        "  Let's call a title Single Player if and only if its feature player is equal either to \"1 Player\" or \"No Online Multiplayer\".\n",
        "\n",
        "  * Print the total number of distinct Single Player titles.\n",
        "\n",
        "  * Print the total number of developers which have developed at least one Single Player title."
      ]
    },
    {
      "cell_type": "code",
      "execution_count": null,
      "metadata": {
        "colab": {
          "base_uri": "https://localhost:8080/"
        },
        "id": "I6b460JnN-7H",
        "outputId": "4890a1ef-f205-475b-f703-f887d7e52b53"
      },
      "outputs": [
        {
          "name": "stdout",
          "output_type": "stream",
          "text": [
            "Mounted at /content/drive\n"
          ]
        }
      ],
      "source": [
        "# CodeGrade Tag Init1\n",
        "\n",
        "from google.colab import drive\n",
        "drive.mount('/content/drive')"
      ]
    },
    {
      "cell_type": "code",
      "execution_count": null,
      "metadata": {
        "id": "Ya7WJUs2PwZF"
      },
      "outputs": [],
      "source": [
        "# CodeGrade Tag Init2\n",
        "\n",
        "# Apache Spark uses Java, so first we must install that\n",
        "!apt-get install openjdk-8-jdk-headless -qq > /dev/null\n",
        "\n",
        "# Unpack Spark from google drive\n",
        "!tar xzf /content/drive/MyDrive/spark-3.3.0-bin-hadoop3.tgz\n",
        "\n",
        "# Set up environment variables\n",
        "import os\n",
        "os.environ[\"JAVA_HOME\"] = \"/usr/lib/jvm/java-8-openjdk-amd64\"\n",
        "os.environ[\"SPARK_HOME\"] = \"spark-3.3.0-bin-hadoop3\"\n",
        "\n",
        "# Install findspark, which helps python locate the psyspark module files\n",
        "!pip install -q findspark\n",
        "import findspark\n",
        "findspark.init()"
      ]
    },
    {
      "cell_type": "code",
      "execution_count": null,
      "metadata": {
        "id": "qoS2qInhP_jy"
      },
      "outputs": [],
      "source": [
        "# Finally, we initialse a \"SparkSession\", which handles the computations\n",
        "from pyspark.sql import SparkSession\n",
        "spark = SparkSession.builder\\\n",
        "        .master(\"local\")\\\n",
        "        .appName(\"Colab\")\\\n",
        "        .config('spark.ui.port', '4050')\\\n",
        "        .getOrCreate()\n",
        "\n",
        "# pyspark.sql.functions countains all the transformations and actions you will\n",
        "# need\n",
        "\n",
        "from pyspark.sql import functions as F\n",
        "from pyspark.sql.functions import col"
      ]
    },
    {
      "cell_type": "code",
      "execution_count": null,
      "metadata": {
        "id": "u_sX_aYiGMrH"
      },
      "outputs": [],
      "source": [
        "# Load the games-data.csv file into your notebook as a pyspark dataframe\n",
        "\n",
        "CsvPath = '/content/games-data.csv'\n",
        "\n",
        "# Load .csv with header, ',' seperators and inferred schema\n",
        "GamesDF = spark.read\\\n",
        "                     .option('header', 'True')\\\n",
        "                     .option(\"escapeQuotes\", \"True\")\\\n",
        "                     .option('sep', ',')\\\n",
        "                     .option('inferSchema', 'True')\\\n",
        "                     .csv(CsvPath)"
      ]
    },
    {
      "cell_type": "code",
      "execution_count": null,
      "metadata": {
        "id": "aa7_iI4oEu7r"
      },
      "outputs": [],
      "source": [
        "# In this cell we perform some minimal preprocessing\n",
        "# First, drop all rows containing null values\n",
        "\n",
        "GamesDF = GamesDF.na.drop()\n",
        "\n",
        "# Second, we extract the year from the release date\n",
        "\n",
        "GamesDF = GamesDF.withColumn(\"year\",\n",
        "                             F.regexp_extract(\"r-date\", r\"(.),(\\s+)(\\w+)\", 3))\n",
        "GamesDF = GamesDF.withColumn('year', GamesDF['year'].cast('int'))\n",
        "GamesDF = GamesDF.drop('r-date')"
      ]
    },
    {
      "cell_type": "code",
      "execution_count": null,
      "metadata": {
        "colab": {
          "base_uri": "https://localhost:8080/"
        },
        "id": "kS0QdyQjG8yK",
        "outputId": "ae18adc1-e9fb-42d9-8044-8efc705de431"
      },
      "outputs": [
        {
          "name": "stdout",
          "output_type": "stream",
          "text": [
            "root\n",
            " |-- name: string (nullable = true)\n",
            " |-- platform: string (nullable = true)\n",
            " |-- score: integer (nullable = true)\n",
            " |-- user score: string (nullable = true)\n",
            " |-- developer: string (nullable = true)\n",
            " |-- genre: string (nullable = true)\n",
            " |-- players: string (nullable = true)\n",
            " |-- critics: integer (nullable = true)\n",
            " |-- users: integer (nullable = true)\n",
            " |-- year: integer (nullable = true)\n",
            "\n",
            "+--------------------+------------+-----+----------+--------------------+--------------------+--------------------+-------+-----+----+\n",
            "|                name|    platform|score|user score|           developer|               genre|             players|critics|users|year|\n",
            "+--------------------+------------+-----+----------+--------------------+--------------------+--------------------+-------+-----+----+\n",
            "|The Legend of Zel...|  Nintendo64|   99|       9.1|            Nintendo|Action Adventure,...|            1 Player|     22| 5749|1998|\n",
            "|Tony Hawk's Pro S...| PlayStation|   98|       7.4|NeversoftEntertai...|Sports,Alternativ...|                1-2 |     19|  647|2000|\n",
            "| Grand Theft Auto IV|PlayStation3|   98|       7.6|       RockstarNorth|Action Adventure,...|            1 Player|     64| 3806|2008|\n",
            "|         SoulCalibur|   Dreamcast|   98|       8.5|               Namco|  Action,Fighting,3D|                1-2 |     24|  324|1999|\n",
            "| Grand Theft Auto IV|     Xbox360|   98|       7.9|       RockstarNorth|Action Adventure,...|            1 Player|     86| 3364|2008|\n",
            "|  Super Mario Galaxy|         Wii|   97|       9.0|            Nintendo|Action,Platformer...|No Online Multipl...|     73| 3059|2007|\n",
            "|Super Mario Galaxy 2|         Wii|   97|       9.1|    NintendoEADTokyo|Action,Platformer...|No Online Multipl...|     87| 2521|2010|\n",
            "|Red Dead Redempti...|     XboxOne|   97|       7.8|       RockstarGames|Action Adventure,...|           Up to 32 |     33| 3186|2018|\n",
            "|  Grand Theft Auto V|     XboxOne|   97|       7.8|       RockstarNorth|Action Adventure,...|           Up to 30 |     14| 1285|2014|\n",
            "|  Grand Theft Auto V|PlayStation3|   97|       8.3|       RockstarNorth|Modern,Action Adv...|           Up to 16 |     50| 4568|2013|\n",
            "|  Grand Theft Auto V|     Xbox360|   97|       8.3|       RockstarNorth|Modern,Action Adv...|           Up to 16 |     58| 3905|2013|\n",
            "|Tony Hawk's Pro S...|   Dreamcast|   97|       6.2|            Treyarch|Sports,Alternativ...|             No info|     18|   88|2000|\n",
            "|The Legend of Zel...|      Switch|   97|       8.6|            Nintendo|Action Adventure,...|No Online Multipl...|    109|15873|2017|\n",
            "|Tony Hawk's Pro S...|PlayStation2|   97|       7.6|NeversoftEntertai...|Sports,Alternativ...|                1-2 |     34|  406|2001|\n",
            "|        Perfect Dark|  Nintendo64|   97|       8.9|            RareLtd.|Action,Shooter,Fi...|             No info|     30|  420|2000|\n",
            "|Red Dead Redempti...|PlayStation4|   97|       8.4|       RockstarGames|Action Adventure,...|           Up to 32 |     99|14315|2018|\n",
            "|  Grand Theft Auto V|PlayStation4|   97|       8.4|       RockstarNorth|Action Adventure,...|           Up to 30 |     66| 5899|2014|\n",
            "|       Metroid Prime|    GameCube|   97|       9.2|        RetroStudios|Action,Shooter,Fi...|            1 Player|     70| 1113|2002|\n",
            "|Grand Theft Auto III|PlayStation2|   97|       8.4|           DMADesign|Action Adventure,...|            1 Player|     56|  881|2001|\n",
            "| Super Mario Odyssey|      Switch|   97|       8.9|            Nintendo|Action,Platformer,3D|No Online Multipl...|    113| 5546|2017|\n",
            "+--------------------+------------+-----+----------+--------------------+--------------------+--------------------+-------+-----+----+\n",
            "only showing top 20 rows\n",
            "\n"
          ]
        }
      ],
      "source": [
        "# CodeGrade Tag Init3\n",
        "\n",
        "GamesDF.printSchema()\n",
        "GamesDF.show()"
      ]
    },
    {
      "cell_type": "markdown",
      "metadata": {
        "id": "1QlcZETyTyT7"
      },
      "source": [
        "# Exercise 1\n",
        "\n",
        "a) Filter and show all the titles with a score higher or equal to 95 released from 2017"
      ]
    },
    {
      "cell_type": "code",
      "execution_count": null,
      "metadata": {
        "colab": {
          "base_uri": "https://localhost:8080/"
        },
        "id": "XvFHxhta6Lva",
        "outputId": "33434988-36c2-4e61-f9f5-2de468128860"
      },
      "outputs": [],
      "source": [
        "# CodeGrade Tag Ex1a\n",
        "### Filter and show all the titles with a score higher or equal to 95\n",
        "### released from 2017\n",
        "\n",
        "#Complete here"
      ]
    },
    {
      "cell_type": "markdown",
      "metadata": {
        "id": "nuSgzl6DZ33Z"
      },
      "source": [
        "b) Create a dataframe that contains, for each developer, the number of distinct titles, the average score, the average user score, the total number of critics and the total number of users.\n",
        "\n",
        "Make sure the columns have the following names:\n",
        "\n",
        "```developer|Number of Titles|Average Score|Average User Score|Total Critics|Total Users```\n",
        "\n",
        "Sort by the number of titles in descending order."
      ]
    },
    {
      "cell_type": "code",
      "execution_count": null,
      "metadata": {
        "colab": {
          "base_uri": "https://localhost:8080/"
        },
        "id": "AzsBLIkNgdHm",
        "outputId": "df487df2-33eb-4ee9-d407-239a6e4b05e1"
      },
      "outputs": [],
      "source": [
        "# CodeGrade Tag Ex1b\n",
        "### Create a dataframe that contains, for each developer, the number of distinct\n",
        "### titles, the average score, the average user score, the total number of\n",
        "### critics and the total number of users. Sort by the number of titles in\n",
        "### descending order.\n",
        "\n",
        "#Complete here"
      ]
    },
    {
      "cell_type": "markdown",
      "metadata": {
        "id": "GS543A9QRBpn"
      },
      "source": [
        "### Exercise 2\n",
        "\n",
        "a) Print the total number of multi-platform titles in the data, i.e. the distinct titles which appear for *at least two* different platforms."
      ]
    },
    {
      "cell_type": "code",
      "execution_count": null,
      "metadata": {
        "colab": {
          "base_uri": "https://localhost:8080/"
        },
        "id": "IuMuVoeZCgdk",
        "outputId": "0fdf1fb2-3e81-40ff-e1c8-db20c891e417"
      },
      "outputs": [],
      "source": [
        "# CodeGrade Tag Ex2a\n",
        "### Print the total number of multi-platform titles in the data, i.e.\n",
        "### the distinct titles which appear for at least two different platforms\n",
        "\n",
        "n_multi_titles = #Complete here\n",
        "\n",
        "print(f\"Number of multi-platform titles: {n_multi_titles}\")"
      ]
    },
    {
      "cell_type": "markdown",
      "metadata": {
        "id": "jyo8B0zUT6DJ"
      },
      "source": [
        "b) Print the name of the developer which has developed titles for the highest number of distinct platforms."
      ]
    },
    {
      "cell_type": "code",
      "execution_count": null,
      "metadata": {
        "colab": {
          "base_uri": "https://localhost:8080/"
        },
        "id": "PN38c0u7SNVl",
        "outputId": "9fa2bdde-4837-4ef3-9232-d4280b75369d"
      },
      "outputs": [],
      "source": [
        "# CodeGrade Tag Ex2b\n",
        "### Print the developer which has developed titles for the highest number\n",
        "### of distinct platforms\n",
        "\n",
        "developer_most_platforms = #Complete here\n",
        "\n",
        "print(f\"Developer for highest number of platforms: {developer_most_platforms}\")"
      ]
    },
    {
      "cell_type": "markdown",
      "metadata": {
        "id": "l_DwW41dX9aT"
      },
      "source": [
        "# Exercise 3\n",
        "\n",
        "Group the data by platform. Show, for each platform, its highest rated title, the total number of titles and the total number of critics.\n",
        "\n",
        "Create a dataframe where the columns are:\n",
        "\n",
        "```Platform|Highest Rated Tile|Number of Titles|Number of Critics```\n",
        "\n",
        "Sort by the Number of Titles in descending order."
      ]
    },
    {
      "cell_type": "code",
      "execution_count": null,
      "metadata": {
        "colab": {
          "base_uri": "https://localhost:8080/"
        },
        "id": "IxowyQGojhGX",
        "outputId": "a34f5b7f-0d92-4f4e-be72-1b4dd705d2f1"
      },
      "outputs": [],
      "source": [
        "# CodeGrade Tag Ex3\n",
        "### Group the data by platform. Show, for each platform, its highest rated\n",
        "### title, the total number of titles and the total number of critics.\n",
        "### Sort by the Number of Titles in descending order.\n",
        "\n",
        "#Complete here"
      ]
    },
    {
      "cell_type": "markdown",
      "metadata": {
        "id": "WIEZ21wyUn8g"
      },
      "source": [
        "# Exercise 4\n",
        "\n",
        "Print the name of the Platform with the highest percentage of titles of \"Open-World\" genre.\n",
        "\n",
        "*Hint*: every game has multiple genres, so use ```pyspark.sql.Column.contains``` to impose the condition that the list of genres contains \"Open-World\"."
      ]
    },
    {
      "cell_type": "code",
      "execution_count": null,
      "metadata": {
        "colab": {
          "base_uri": "https://localhost:8080/"
        },
        "id": "LHaC8-59G3Hr",
        "outputId": "af8d664e-c1cb-4bfe-df87-69284cfb4b2c"
      },
      "outputs": [],
      "source": [
        "# CodeGrade Tag Ex4\n",
        "### Print the name of the Platform with the highest percentage of titles of\n",
        "### \"Open-World\" genre\n",
        "\n",
        "#Complete here\n",
        "\n",
        "plat_OpenWorld = #Complete here\n",
        "\n",
        "print(f\"Platform with the highest percentage of Open-World titles: {plat_OpenWorld}\")"
      ]
    },
    {
      "cell_type": "markdown",
      "metadata": {
        "id": "ciUez_m4aYmO"
      },
      "source": [
        "# Exercise 5\n",
        "\n",
        "⚠️ Let's define a title *Single Player* if and only if its feature ```player``` is equal either to \"1 Player\" or \"No Online Multiplayer\".\n",
        "\n",
        "For example, *The Legend of Zelda: Ocarina of Time* has ```player``` equal \"1 Player\", so it is a Single Player. For another example, *Grim Fandango* has ```player``` equal \"No Online Multiplayer\", so it is a Single Player too. On the other hand, *Mario Kart 8* has ```player``` equal \"Up to 12\", so it is not a Single Player.\n",
        "\n",
        "Havind defined Single Player titles as above,\n",
        "\n",
        "* Print the total number of distinct Single Player titles.\n",
        "\n",
        "* Print the total number of developers which have developed at least one Single Player title."
      ]
    },
    {
      "cell_type": "code",
      "execution_count": null,
      "metadata": {
        "colab": {
          "base_uri": "https://localhost:8080/"
        },
        "id": "VXReWf6GmhIw",
        "outputId": "6f82f64e-8c27-4ff3-9b77-491d8ba43109"
      },
      "outputs": [],
      "source": [
        "# CodeGrade Tag Ex5\n",
        "### Print the total number of distinct Single Player titles.\n",
        "### Print the total number of developers which have developed at least one Single Player title.\n",
        "\n",
        "#Complete here\n",
        "\n",
        "SinglePlayer_titles = #Complete here\n",
        "\n",
        "SinglePlayer_developers = #Complete here\n",
        "\n",
        "print(f\"Number of Single Player titles: {SinglePlayer_titles}\")\n",
        "print(f\"Number of developers of Single Player titles: {SinglePlayer_developers}\")"
      ]
    }
  ],
  "metadata": {
    "colab": {
      "provenance": []
    },
    "kernelspec": {
      "display_name": "Python 3",
      "name": "python3"
    },
    "language_info": {
      "name": "python"
    }
  },
  "nbformat": 4,
  "nbformat_minor": 0
}
